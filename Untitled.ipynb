{
 "cells": [
  {
   "cell_type": "code",
   "execution_count": 1,
   "metadata": {},
   "outputs": [],
   "source": [
    "import pandas as pd\n",
    "#import numpy as np\n",
    "import matplotlib.pyplot as plt"
   ]
  },
  {
   "cell_type": "code",
   "execution_count": 2,
   "metadata": {},
   "outputs": [],
   "source": [
    "df = pd.read_csv('dataset_cleaned.csv')"
   ]
  },
  {
   "cell_type": "code",
   "execution_count": 4,
   "metadata": {},
   "outputs": [
    {
     "data": {
      "text/plain": [
       "Unnamed: 0        int64\n",
       "Month             int64\n",
       "Hour              int64\n",
       "Value           float64\n",
       "DIR             float64\n",
       "SPD             float64\n",
       "TEMP            float64\n",
       "Value_1         float64\n",
       "TEMP_1          float64\n",
       "SPD_1           float64\n",
       "DIR_1           float64\n",
       "Value_2         float64\n",
       "TEMP_2          float64\n",
       "SPD_2           float64\n",
       "DIR_2           float64\n",
       "Value_3         float64\n",
       "TEMP_3          float64\n",
       "SPD_3           float64\n",
       "DIR_3           float64\n",
       "Value_4         float64\n",
       "TEMP_4          float64\n",
       "SPD_4           float64\n",
       "DIR_4           float64\n",
       "Value_5         float64\n",
       "TEMP_5          float64\n",
       "SPD_5           float64\n",
       "DIR_5           float64\n",
       "HUM             float64\n",
       "HUM_1           float64\n",
       "HUM_2           float64\n",
       "HUM_3           float64\n",
       "HUM_4           float64\n",
       "HUM_5           float64\n",
       "day_week_cat      int64\n",
       "dtype: object"
      ]
     },
     "execution_count": 4,
     "metadata": {},
     "output_type": "execute_result"
    }
   ],
   "source": [
    "df.dtypes"
   ]
  },
  {
   "cell_type": "code",
   "execution_count": 5,
   "metadata": {},
   "outputs": [],
   "source": [
    "df = df.loc[:, ~df.columns.str.contains('^Unnamed')]"
   ]
  },
  {
   "cell_type": "code",
   "execution_count": 6,
   "metadata": {},
   "outputs": [
    {
     "data": {
      "text/plain": [
       "Month             int64\n",
       "Hour              int64\n",
       "Value           float64\n",
       "DIR             float64\n",
       "SPD             float64\n",
       "TEMP            float64\n",
       "Value_1         float64\n",
       "TEMP_1          float64\n",
       "SPD_1           float64\n",
       "DIR_1           float64\n",
       "Value_2         float64\n",
       "TEMP_2          float64\n",
       "SPD_2           float64\n",
       "DIR_2           float64\n",
       "Value_3         float64\n",
       "TEMP_3          float64\n",
       "SPD_3           float64\n",
       "DIR_3           float64\n",
       "Value_4         float64\n",
       "TEMP_4          float64\n",
       "SPD_4           float64\n",
       "DIR_4           float64\n",
       "Value_5         float64\n",
       "TEMP_5          float64\n",
       "SPD_5           float64\n",
       "DIR_5           float64\n",
       "HUM             float64\n",
       "HUM_1           float64\n",
       "HUM_2           float64\n",
       "HUM_3           float64\n",
       "HUM_4           float64\n",
       "HUM_5           float64\n",
       "day_week_cat      int64\n",
       "dtype: object"
      ]
     },
     "execution_count": 6,
     "metadata": {},
     "output_type": "execute_result"
    }
   ],
   "source": [
    "df.dtypes"
   ]
  },
  {
   "cell_type": "code",
   "execution_count": 7,
   "metadata": {},
   "outputs": [
    {
     "data": {
      "text/plain": [
       "(6762, 33)"
      ]
     },
     "execution_count": 7,
     "metadata": {},
     "output_type": "execute_result"
    }
   ],
   "source": [
    "y = df['Value']\n",
    "df.shape"
   ]
  },
  {
   "cell_type": "code",
   "execution_count": 8,
   "metadata": {},
   "outputs": [],
   "source": [
    "X = df.drop(['Value'], axis=1)"
   ]
  },
  {
   "cell_type": "code",
   "execution_count": 9,
   "metadata": {},
   "outputs": [],
   "source": [
    "from sklearn.model_selection import train_test_split\n",
    "\n",
    "X_train, X_test, y_train, y_test = train_test_split(X, y, test_size=.3, random_state=1234)"
   ]
  },
  {
   "cell_type": "code",
   "execution_count": 10,
   "metadata": {},
   "outputs": [],
   "source": [
    "from xgboost.sklearn import XGBRegressor\n",
    "\n",
    "#Fitting XGB regressor \n",
    "xboost = XGBRegressor(n_estimators=200)"
   ]
  },
  {
   "cell_type": "code",
   "execution_count": 11,
   "metadata": {},
   "outputs": [
    {
     "data": {
      "text/plain": [
       "XGBRegressor(base_score=0.5, booster='gbtree', colsample_bylevel=1,\n",
       "       colsample_bytree=1, gamma=0, learning_rate=0.1, max_delta_step=0,\n",
       "       max_depth=3, min_child_weight=1, missing=None, n_estimators=200,\n",
       "       n_jobs=1, nthread=None, objective='reg:linear', random_state=0,\n",
       "       reg_alpha=0, reg_lambda=1, scale_pos_weight=1, seed=None,\n",
       "       silent=True, subsample=1)"
      ]
     },
     "execution_count": 11,
     "metadata": {},
     "output_type": "execute_result"
    }
   ],
   "source": [
    "xboost.fit(X_train, y_train)"
   ]
  },
  {
   "cell_type": "code",
   "execution_count": 13,
   "metadata": {},
   "outputs": [
    {
     "data": {
      "text/plain": [
       "0.7379045217516393"
      ]
     },
     "execution_count": 13,
     "metadata": {},
     "output_type": "execute_result"
    }
   ],
   "source": [
    "xgb_score = xboost.score(X_test, y_test)\n",
    "xgb_score"
   ]
  },
  {
   "cell_type": "code",
   "execution_count": null,
   "metadata": {},
   "outputs": [],
   "source": []
  }
 ],
 "metadata": {
  "kernelspec": {
   "display_name": "Python 3",
   "language": "python",
   "name": "python3"
  },
  "language_info": {
   "codemirror_mode": {
    "name": "ipython",
    "version": 3
   },
   "file_extension": ".py",
   "mimetype": "text/x-python",
   "name": "python",
   "nbconvert_exporter": "python",
   "pygments_lexer": "ipython3",
   "version": "3.8.1"
  }
 },
 "nbformat": 4,
 "nbformat_minor": 2
}
