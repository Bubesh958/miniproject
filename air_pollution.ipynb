{
 "cells": [
  {
   "cell_type": "code",
   "execution_count": 21,
   "metadata": {},
   "outputs": [],
   "source": [
    "import pandas as pd\n",
    "#import numpy as np\n",
    "import matplotlib.pyplot as plt"
   ]
  },
  {
   "cell_type": "code",
   "execution_count": 22,
   "metadata": {},
   "outputs": [],
   "source": [
    "df = pd.read_csv('dataset_cleaned.csv')"
   ]
  },
  {
   "cell_type": "code",
   "execution_count": 23,
   "metadata": {
    "scrolled": true
   },
   "outputs": [
    {
     "data": {
      "text/plain": [
       "Unnamed: 0        int64\n",
       "Month             int64\n",
       "Hour              int64\n",
       "Value           float64\n",
       "DIR             float64\n",
       "SPD             float64\n",
       "TEMP            float64\n",
       "Value_1         float64\n",
       "TEMP_1          float64\n",
       "SPD_1           float64\n",
       "DIR_1           float64\n",
       "Value_2         float64\n",
       "TEMP_2          float64\n",
       "SPD_2           float64\n",
       "DIR_2           float64\n",
       "Value_3         float64\n",
       "TEMP_3          float64\n",
       "SPD_3           float64\n",
       "DIR_3           float64\n",
       "Value_4         float64\n",
       "TEMP_4          float64\n",
       "SPD_4           float64\n",
       "DIR_4           float64\n",
       "Value_5         float64\n",
       "TEMP_5          float64\n",
       "SPD_5           float64\n",
       "DIR_5           float64\n",
       "HUM             float64\n",
       "HUM_1           float64\n",
       "HUM_2           float64\n",
       "HUM_3           float64\n",
       "HUM_4           float64\n",
       "HUM_5           float64\n",
       "day_week_cat      int64\n",
       "dtype: object"
      ]
     },
     "execution_count": 23,
     "metadata": {},
     "output_type": "execute_result"
    }
   ],
   "source": [
    "df.dtypes"
   ]
  },
  {
   "cell_type": "code",
   "execution_count": 24,
   "metadata": {},
   "outputs": [
    {
     "data": {
      "text/plain": [
       "(6762, 34)"
      ]
     },
     "execution_count": 24,
     "metadata": {},
     "output_type": "execute_result"
    }
   ],
   "source": [
    "y = df['Value']\n",
    "df.shape"
   ]
  },
  {
   "cell_type": "code",
   "execution_count": 25,
   "metadata": {},
   "outputs": [],
   "source": [
    "X = df.drop(['Value'], axis=1)"
   ]
  },
  {
   "cell_type": "code",
   "execution_count": 26,
   "metadata": {},
   "outputs": [],
   "source": [
    "from sklearn.model_selection import train_test_split\n",
    "\n",
    "X_train, X_test, y_train, y_test = train_test_split(X, y, test_size=.3, random_state=1234)"
   ]
  },
  {
   "cell_type": "code",
   "execution_count": 27,
   "metadata": {},
   "outputs": [
    {
     "data": {
      "text/plain": [
       "((4733, 33), (4733,))"
      ]
     },
     "execution_count": 27,
     "metadata": {},
     "output_type": "execute_result"
    }
   ],
   "source": [
    "X_train.shape, y_train.shape"
   ]
  },
  {
   "cell_type": "code",
   "execution_count": 28,
   "metadata": {},
   "outputs": [
    {
     "data": {
      "text/plain": [
       "((2029, 33), (2029,))"
      ]
     },
     "execution_count": 28,
     "metadata": {},
     "output_type": "execute_result"
    }
   ],
   "source": [
    "X_test.shape, y_test.shape"
   ]
  },
  {
   "cell_type": "code",
   "execution_count": 29,
   "metadata": {},
   "outputs": [
    {
     "data": {
      "text/plain": [
       "Index(['Unnamed: 0', 'Month', 'Hour', 'DIR', 'SPD', 'TEMP', 'Value_1',\n",
       "       'TEMP_1', 'SPD_1', 'DIR_1', 'Value_2', 'TEMP_2', 'SPD_2', 'DIR_2',\n",
       "       'Value_3', 'TEMP_3', 'SPD_3', 'DIR_3', 'Value_4', 'TEMP_4', 'SPD_4',\n",
       "       'DIR_4', 'Value_5', 'TEMP_5', 'SPD_5', 'DIR_5', 'HUM', 'HUM_1', 'HUM_2',\n",
       "       'HUM_3', 'HUM_4', 'HUM_5', 'day_week_cat'],\n",
       "      dtype='object')"
      ]
     },
     "execution_count": 29,
     "metadata": {},
     "output_type": "execute_result"
    }
   ],
   "source": [
    "X.columns"
   ]
  },
  {
   "cell_type": "code",
   "execution_count": 10,
   "metadata": {},
   "outputs": [],
   "source": [
    "from sklearn.linear_model import LinearRegression\n",
    "from sklearn.metrics import r2_score\n",
    "\n",
    "# Create linear regression object\n",
    "regr = LinearRegression()"
   ]
  },
  {
   "cell_type": "code",
   "execution_count": 11,
   "metadata": {},
   "outputs": [
    {
     "data": {
      "text/plain": [
       "LinearRegression(copy_X=True, fit_intercept=True, n_jobs=1, normalize=False)"
      ]
     },
     "execution_count": 11,
     "metadata": {},
     "output_type": "execute_result"
    }
   ],
   "source": [
    "#train\n",
    "regr.fit(X_train, y_train)"
   ]
  },
  {
   "cell_type": "code",
   "execution_count": 12,
   "metadata": {},
   "outputs": [],
   "source": [
    "# prediction\n",
    "lin_pred = regr.predict(X_test)"
   ]
  },
  {
   "cell_type": "code",
   "execution_count": 13,
   "metadata": {},
   "outputs": [
    {
     "name": "stdout",
     "output_type": "stream",
     "text": [
      "R-squared: 0.70\n"
     ]
    }
   ],
   "source": [
    "# r-squared value\n",
    "print('R-squared: %.2f' % r2_score(y_test, lin_pred))"
   ]
  },
  {
   "cell_type": "code",
   "execution_count": null,
   "metadata": {},
   "outputs": [],
   "source": []
  },
  {
   "cell_type": "code",
   "execution_count": null,
   "metadata": {},
   "outputs": [],
   "source": []
  },
  {
   "cell_type": "code",
   "execution_count": null,
   "metadata": {},
   "outputs": [],
   "source": []
  },
  {
   "cell_type": "code",
   "execution_count": null,
   "metadata": {},
   "outputs": [],
   "source": []
  },
  {
   "cell_type": "code",
   "execution_count": null,
   "metadata": {},
   "outputs": [],
   "source": []
  },
  {
   "cell_type": "code",
   "execution_count": null,
   "metadata": {},
   "outputs": [],
   "source": []
  },
  {
   "cell_type": "code",
   "execution_count": null,
   "metadata": {},
   "outputs": [],
   "source": []
  },
  {
   "cell_type": "code",
   "execution_count": 47,
   "metadata": {},
   "outputs": [
    {
     "data": {
      "image/png": "[encoded data removed]",
      "text/plain": [
       "<Figure size 432x288 with 1 Axes>"
      ]
     },
     "metadata": {},
     "output_type": "display_data"
    }
   ],
   "source": [
    "x = df['Month']\n",
    "y = df['Value']\n",
    "plt.scatter(x,y)\n",
    "plt.xlabel('Month')\n",
    "plt.ylabel('PM2.5 Level')\n",
    "plt.title('PM2.5 by Month')\n",
    "plt.show()"
   ]
  },
  {
   "cell_type": "code",
   "execution_count": null,
   "metadata": {},
   "outputs": [],
   "source": [
    "df['Value_1'] = df.Value.shift(periods=1)\n",
    "df['TEMP_1'] = df.TEMP.shift(periods=1)\n",
    "df['SPD_1'] = df.SPD.shift(periods=1)\n",
    "df['DEWP_1'] = df.DEWP.shift(periods=1)\n",
    "df['DIR_1'] = df.DIR.shift(periods=1)\n",
    "df['Value_2'] = df.Value.shift(periods=2)\n",
    "df['TEMP_2'] = df.TEMP.shift(periods=2)\n",
    "df['SPD_2'] = df.SPD.shift(periods=2)\n",
    "df['DEWP_2'] = df.DEWP.shift(periods=2)\n",
    "df['DIR_2'] = df.DIR.shift(periods=2)\n",
    "df['Value_3'] = df.Value.shift(periods=3)\n",
    "df['TEMP_3'] = df.TEMP.shift(periods=3)\n",
    "df['SPD_3'] = df.SPD.shift(periods=3)\n",
    "df['DEWP_3'] = df.DEWP.shift(periods=3)\n",
    "df['DIR_3'] = df.DIR.shift(periods=3)\n",
    "df['Value_4'] = df.Value.shift(periods=4)\n",
    "df['TEMP_4'] = df.TEMP.shift(periods=4)\n",
    "df['SPD_4'] = df.SPD.shift(periods=4)\n",
    "df['DEWP_4'] = df.DEWP.shift(periods=4)\n",
    "df['DIR_4'] = df.DIR.shift(periods=4)\n",
    "df['Value_5'] = df.Value.shift(periods=5)\n",
    "df['TEMP_5'] = df.TEMP.shift(periods=5)\n",
    "df['SPD_5'] = df.SPD.shift(periods=5)\n",
    "df['DEWP_5'] = df.DEWP.shift(periods=5)\n",
    "df['DIR_5'] = df.DIR.shift(periods=5)"
   ]
  },
  {
   "cell_type": "code",
   "execution_count": null,
   "metadata": {},
   "outputs": [],
   "source": []
  },
  {
   "cell_type": "code",
   "execution_count": 48,
   "metadata": {},
   "outputs": [
    {
     "data": {
      "image/png": "[encoded data removed]",
      "text/plain": [
       "<Figure size 432x288 with 1 Axes>"
      ]
     },
     "metadata": {},
     "output_type": "display_data"
    }
   ],
   "source": [
    "# visualization\n",
    "plt.scatter(y_test, lin_pred)\n",
    "plt.xlabel('Measured')\n",
    "plt.ylabel('Predicted')\n",
    "plt.title('Linear Regression Predicted vs Actual')\n",
    "plt.show()"
   ]
  },
  {
   "cell_type": "code",
   "execution_count": null,
   "metadata": {},
   "outputs": [],
   "source": []
  },
  {
   "cell_type": "code",
   "execution_count": null,
   "metadata": {},
   "outputs": [],
   "source": [
    "# cleaning steps\n",
    "\n",
    "# removing unwanted features\n",
    "df = df.drop(['Year', 'Day', 'Date Key', 'Date Key.1', 'AQI', 'Source.Name', 'Site', 'Parameter', 'Unit', 'Duration', \n",
    "              'USAF', 'WBAN', 'GUS', 'CLG', 'SKC', 'L', 'M', 'H', 'VSB', 'MW', 'MW_1', 'MW_2', 'MW_3', 'AW', 'AW_4', \n",
    "              'AW_5', 'AW_6', 'W', 'SLP', 'ALT', 'STP', 'MAX', 'MIN', 'PCP01', 'PCP06', 'PCP24', 'PCPXX', 'SD'], axis=1)\n",
    "\n",
    "\n",
    "# to determine whether the feature is needed or not\n",
    "x = df['Month']\n",
    "y = df['Value']\n",
    "plt.scatter(x,y)\n",
    "plt.xlabel('Month')\n",
    "plt.ylabel('PM2.5 Level')\n",
    "plt.title('PM2.5 by Month')\n",
    "plt.show()\n",
    "\n",
    "\n",
    "# shifting features with periods of 5\n",
    "\n",
    "# removing rows that contains null in it\n",
    "\n",
    "\n",
    "# dew point to humidity\n",
    "\n",
    "\n",
    "\n",
    "\n",
    "\n",
    "\n",
    "\n"
   ]
  },
  {
   "cell_type": "code",
   "execution_count": null,
   "metadata": {},
   "outputs": [],
   "source": []
  }
 ],
 "metadata": {
  "kernelspec": {
   "display_name": "Python 3",
   "language": "python",
   "name": "python3"
  },
  "language_info": {
   "codemirror_mode": {
    "name": "ipython",
    "version": 3
   },
   "file_extension": ".py",
   "mimetype": "text/x-python",
   "name": "python",
   "nbconvert_exporter": "python",
   "pygments_lexer": "ipython3",
   "version": "3.8.1"
  }
 },
 "nbformat": 4,
 "nbformat_minor": 2
}
