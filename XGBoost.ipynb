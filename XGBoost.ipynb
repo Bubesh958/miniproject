{
 "cells": [
  {
   "cell_type": "code",
   "execution_count": 2,
   "metadata": {},
   "outputs": [
    {
     "ename": "ImportError",
     "evalue": "Missing required dependencies ['numpy']",
     "output_type": "error",
     "traceback": [
      "\u001b[1;31m---------------------------------------------------------------------------\u001b[0m",
      "\u001b[1;31mImportError\u001b[0m                               Traceback (most recent call last)",
      "\u001b[1;32m<ipython-input-2-601278af1d71>\u001b[0m in \u001b[0;36m<module>\u001b[1;34m\u001b[0m\n\u001b[1;32m----> 1\u001b[1;33m \u001b[1;32mimport\u001b[0m \u001b[0mpandas\u001b[0m \u001b[1;32mas\u001b[0m \u001b[0mpd\u001b[0m\u001b[1;33m\u001b[0m\u001b[1;33m\u001b[0m\u001b[0m\n\u001b[0m\u001b[0;32m      2\u001b[0m \u001b[1;32mimport\u001b[0m \u001b[0mnumpy\u001b[0m \u001b[1;32mas\u001b[0m \u001b[0mnp\u001b[0m\u001b[1;33m\u001b[0m\u001b[1;33m\u001b[0m\u001b[0m\n\u001b[0;32m      3\u001b[0m \u001b[1;32mimport\u001b[0m \u001b[0mmatplotlib\u001b[0m\u001b[1;33m.\u001b[0m\u001b[0mpyplot\u001b[0m \u001b[1;32mas\u001b[0m \u001b[0mplt\u001b[0m\u001b[1;33m\u001b[0m\u001b[1;33m\u001b[0m\u001b[0m\n\u001b[0;32m      4\u001b[0m \u001b[1;32mimport\u001b[0m \u001b[0murllib\u001b[0m\u001b[1;33m.\u001b[0m\u001b[0mrequest\u001b[0m \u001b[1;32mas\u001b[0m \u001b[0murllib2\u001b[0m\u001b[1;33m\u001b[0m\u001b[1;33m\u001b[0m\u001b[0m\n\u001b[0;32m      5\u001b[0m \u001b[1;32mfrom\u001b[0m \u001b[0mbs4\u001b[0m \u001b[1;32mimport\u001b[0m \u001b[0mBeautifulSoup\u001b[0m\u001b[1;33m\u001b[0m\u001b[1;33m\u001b[0m\u001b[0m\n",
      "\u001b[1;32mD:\\anaconda3\\lib\\site-packages\\pandas\\__init__.py\u001b[0m in \u001b[0;36m<module>\u001b[1;34m\u001b[0m\n\u001b[0;32m     17\u001b[0m \u001b[1;32mif\u001b[0m \u001b[0mmissing_dependencies\u001b[0m\u001b[1;33m:\u001b[0m\u001b[1;33m\u001b[0m\u001b[1;33m\u001b[0m\u001b[0m\n\u001b[0;32m     18\u001b[0m     raise ImportError(\n\u001b[1;32m---> 19\u001b[1;33m         \"Missing required dependencies {0}\".format(missing_dependencies))\n\u001b[0m\u001b[0;32m     20\u001b[0m \u001b[1;32mdel\u001b[0m \u001b[0mhard_dependencies\u001b[0m\u001b[1;33m,\u001b[0m \u001b[0mdependency\u001b[0m\u001b[1;33m,\u001b[0m \u001b[0mmissing_dependencies\u001b[0m\u001b[1;33m\u001b[0m\u001b[1;33m\u001b[0m\u001b[0m\n\u001b[0;32m     21\u001b[0m \u001b[1;33m\u001b[0m\u001b[0m\n",
      "\u001b[1;31mImportError\u001b[0m: Missing required dependencies ['numpy']"
     ]
    }
   ],
   "source": [
    "import pandas as pd\n",
    "import numpy as np\n",
    "import matplotlib.pyplot as plt\n",
    "import urllib.request as urllib2\n",
    "from bs4 import BeautifulSoup\n",
    "import json"
   ]
  },
  {
   "cell_type": "code",
   "execution_count": 5,
   "metadata": {},
   "outputs": [
    {
     "ename": "IndentationError",
     "evalue": "unexpected indent (<ipython-input-5-be9e6ab3e984>, line 6)",
     "output_type": "error",
     "traceback": [
      "\u001b[1;36m  File \u001b[1;32m\"<ipython-input-5-be9e6ab3e984>\"\u001b[1;36m, line \u001b[1;32m6\u001b[0m\n\u001b[1;33m    return \"<h1>Not Much Going On Here</h1>\"\u001b[0m\n\u001b[1;37m    ^\u001b[0m\n\u001b[1;31mIndentationError\u001b[0m\u001b[1;31m:\u001b[0m unexpected indent\n"
     ]
    }
   ],
   "source": [
    "from flask import Flask\n",
    "app = Flask(__name__)\n",
    "\n",
    "@app.route(\"/\")\n",
    "def hello():\n",
    "    return \"<h1>Not Much Going On Here</h1>\"\n",
    "app.run(host='0.0.0.0', port=50000)"
   ]
  },
  {
   "cell_type": "code",
   "execution_count": 2,
   "metadata": {},
   "outputs": [],
   "source": [
    "df = pd.read_csv('dataset_cleaned.csv')\n",
    "\n",
    "df = df.loc[:, ~df.columns.str.contains('^Unnamed')]"
   ]
  },
  {
   "cell_type": "code",
   "execution_count": 3,
   "metadata": {},
   "outputs": [
    {
     "data": {
      "text/plain": [
       "(6762, 34)"
      ]
     },
     "execution_count": 3,
     "metadata": {},
     "output_type": "execute_result"
    }
   ],
   "source": [
    "y = df['Value']\n",
    "df.shape"
   ]
  },
  {
   "cell_type": "code",
   "execution_count": 4,
   "metadata": {},
   "outputs": [],
   "source": [
    "X = df.drop(['Value'], axis=1)"
   ]
  },
  {
   "cell_type": "code",
   "execution_count": 5,
   "metadata": {},
   "outputs": [],
   "source": [
    "from sklearn.model_selection import train_test_split\n",
    "\n",
    "X_train, X_test, y_train, y_test = train_test_split(X, y, test_size=.3, random_state=1234)"
   ]
  },
  {
   "cell_type": "code",
   "execution_count": 6,
   "metadata": {},
   "outputs": [
    {
     "data": {
      "text/plain": [
       "Unnamed: 0        int64\n",
       "Month             int64\n",
       "Hour              int64\n",
       "DIR             float64\n",
       "SPD             float64\n",
       "TEMP            float64\n",
       "Value_1         float64\n",
       "TEMP_1          float64\n",
       "SPD_1           float64\n",
       "DIR_1           float64\n",
       "Value_2         float64\n",
       "TEMP_2          float64\n",
       "SPD_2           float64\n",
       "DIR_2           float64\n",
       "Value_3         float64\n",
       "TEMP_3          float64\n",
       "SPD_3           float64\n",
       "DIR_3           float64\n",
       "Value_4         float64\n",
       "TEMP_4          float64\n",
       "SPD_4           float64\n",
       "DIR_4           float64\n",
       "Value_5         float64\n",
       "TEMP_5          float64\n",
       "SPD_5           float64\n",
       "DIR_5           float64\n",
       "HUM             float64\n",
       "HUM_1           float64\n",
       "HUM_2           float64\n",
       "HUM_3           float64\n",
       "HUM_4           float64\n",
       "HUM_5           float64\n",
       "day_week_cat      int64\n",
       "dtype: object"
      ]
     },
     "execution_count": 6,
     "metadata": {},
     "output_type": "execute_result"
    }
   ],
   "source": [
    "X_train.dtypes"
   ]
  },
  {
   "cell_type": "code",
   "execution_count": null,
   "metadata": {},
   "outputs": [],
   "source": []
  },
  {
   "cell_type": "code",
   "execution_count": null,
   "metadata": {},
   "outputs": [],
   "source": []
  },
  {
   "cell_type": "code",
   "execution_count": 7,
   "metadata": {},
   "outputs": [],
   "source": [
    "from xgboost.sklearn import XGBRegressor\n",
    "\n",
    "xboost = XGBRegressor(n_estimators=200)"
   ]
  },
  {
   "cell_type": "code",
   "execution_count": 8,
   "metadata": {},
   "outputs": [
    {
     "data": {
      "text/plain": [
       "XGBRegressor(base_score=0.5, booster='gbtree', colsample_bylevel=1,\n",
       "       colsample_bytree=1, gamma=0, learning_rate=0.1, max_delta_step=0,\n",
       "       max_depth=3, min_child_weight=1, missing=None, n_estimators=200,\n",
       "       n_jobs=1, nthread=None, objective='reg:linear', random_state=0,\n",
       "       reg_alpha=0, reg_lambda=1, scale_pos_weight=1, seed=None,\n",
       "       silent=True, subsample=1)"
      ]
     },
     "execution_count": 8,
     "metadata": {},
     "output_type": "execute_result"
    }
   ],
   "source": [
    "xboost.fit(X_train, y_train)"
   ]
  },
  {
   "cell_type": "code",
   "execution_count": 9,
   "metadata": {},
   "outputs": [
    {
     "data": {
      "text/plain": [
       "0.7432749301007617"
      ]
     },
     "execution_count": 9,
     "metadata": {},
     "output_type": "execute_result"
    }
   ],
   "source": [
    "xgb_score = xboost.score(X_test, y_test)\n",
    "xgb_score"
   ]
  },
  {
   "cell_type": "code",
   "execution_count": 10,
   "metadata": {},
   "outputs": [
    {
     "data": {
      "text/html": [
       "<div>\n",
       "<style scoped>\n",
       "    .dataframe tbody tr th:only-of-type {\n",
       "        vertical-align: middle;\n",
       "    }\n",
       "\n",
       "    .dataframe tbody tr th {\n",
       "        vertical-align: top;\n",
       "    }\n",
       "\n",
       "    .dataframe thead th {\n",
       "        text-align: right;\n",
       "    }\n",
       "</style>\n",
       "<table border=\"1\" class=\"dataframe\">\n",
       "  <thead>\n",
       "    <tr style=\"text-align: right;\">\n",
       "      <th></th>\n",
       "      <th>Month</th>\n",
       "      <th>Hour</th>\n",
       "      <th>DIR</th>\n",
       "      <th>SPD</th>\n",
       "      <th>TEMP</th>\n",
       "      <th>Value_1</th>\n",
       "      <th>TEMP_1</th>\n",
       "      <th>SPD_1</th>\n",
       "      <th>DIR_1</th>\n",
       "      <th>Value_2</th>\n",
       "      <th>...</th>\n",
       "      <th>TEMP_5</th>\n",
       "      <th>SPD_5</th>\n",
       "      <th>DIR_5</th>\n",
       "      <th>HUM</th>\n",
       "      <th>HUM_1</th>\n",
       "      <th>HUM_2</th>\n",
       "      <th>HUM_3</th>\n",
       "      <th>HUM_4</th>\n",
       "      <th>HUM_5</th>\n",
       "      <th>day_week_cat</th>\n",
       "    </tr>\n",
       "  </thead>\n",
       "  <tbody>\n",
       "    <tr>\n",
       "      <th>4808</th>\n",
       "      <td>6</td>\n",
       "      <td>16</td>\n",
       "      <td>350.0</td>\n",
       "      <td>20.92142</td>\n",
       "      <td>7.222222</td>\n",
       "      <td>22.0</td>\n",
       "      <td>7.777778</td>\n",
       "      <td>6.43736</td>\n",
       "      <td>260.0</td>\n",
       "      <td>128.0</td>\n",
       "      <td>...</td>\n",
       "      <td>15.000000</td>\n",
       "      <td>35.40548</td>\n",
       "      <td>990.0</td>\n",
       "      <td>60.131692</td>\n",
       "      <td>57.894632</td>\n",
       "      <td>62.991173</td>\n",
       "      <td>54.289142</td>\n",
       "      <td>58.876705</td>\n",
       "      <td>43.806617</td>\n",
       "      <td>1</td>\n",
       "    </tr>\n",
       "    <tr>\n",
       "      <th>4431</th>\n",
       "      <td>5</td>\n",
       "      <td>9</td>\n",
       "      <td>310.0</td>\n",
       "      <td>40.23350</td>\n",
       "      <td>18.888889</td>\n",
       "      <td>40.0</td>\n",
       "      <td>22.777778</td>\n",
       "      <td>28.96812</td>\n",
       "      <td>990.0</td>\n",
       "      <td>30.0</td>\n",
       "      <td>...</td>\n",
       "      <td>21.111111</td>\n",
       "      <td>14.48406</td>\n",
       "      <td>990.0</td>\n",
       "      <td>25.873111</td>\n",
       "      <td>14.017293</td>\n",
       "      <td>10.577524</td>\n",
       "      <td>8.121697</td>\n",
       "      <td>10.366566</td>\n",
       "      <td>10.508683</td>\n",
       "      <td>1</td>\n",
       "    </tr>\n",
       "    <tr>\n",
       "      <th>3350</th>\n",
       "      <td>12</td>\n",
       "      <td>0</td>\n",
       "      <td>70.0</td>\n",
       "      <td>6.43736</td>\n",
       "      <td>-30.000000</td>\n",
       "      <td>154.0</td>\n",
       "      <td>-32.222222</td>\n",
       "      <td>3.21868</td>\n",
       "      <td>990.0</td>\n",
       "      <td>122.0</td>\n",
       "      <td>...</td>\n",
       "      <td>-27.777778</td>\n",
       "      <td>3.21868</td>\n",
       "      <td>990.0</td>\n",
       "      <td>76.672049</td>\n",
       "      <td>68.259067</td>\n",
       "      <td>68.807200</td>\n",
       "      <td>72.886260</td>\n",
       "      <td>69.076428</td>\n",
       "      <td>65.736441</td>\n",
       "      <td>1</td>\n",
       "    </tr>\n",
       "    <tr>\n",
       "      <th>5469</th>\n",
       "      <td>8</td>\n",
       "      <td>8</td>\n",
       "      <td>360.0</td>\n",
       "      <td>11.26538</td>\n",
       "      <td>27.222222</td>\n",
       "      <td>8.0</td>\n",
       "      <td>26.111111</td>\n",
       "      <td>25.74944</td>\n",
       "      <td>990.0</td>\n",
       "      <td>5.0</td>\n",
       "      <td>...</td>\n",
       "      <td>21.111111</td>\n",
       "      <td>6.43736</td>\n",
       "      <td>250.0</td>\n",
       "      <td>29.266212</td>\n",
       "      <td>30.082759</td>\n",
       "      <td>33.689548</td>\n",
       "      <td>33.376028</td>\n",
       "      <td>51.356790</td>\n",
       "      <td>52.831566</td>\n",
       "      <td>3</td>\n",
       "    </tr>\n",
       "    <tr>\n",
       "      <th>3507</th>\n",
       "      <td>1</td>\n",
       "      <td>18</td>\n",
       "      <td>350.0</td>\n",
       "      <td>17.70274</td>\n",
       "      <td>-15.000000</td>\n",
       "      <td>166.0</td>\n",
       "      <td>-15.000000</td>\n",
       "      <td>6.43736</td>\n",
       "      <td>990.0</td>\n",
       "      <td>95.0</td>\n",
       "      <td>...</td>\n",
       "      <td>-13.888889</td>\n",
       "      <td>3.21868</td>\n",
       "      <td>990.0</td>\n",
       "      <td>65.632583</td>\n",
       "      <td>72.187947</td>\n",
       "      <td>72.187947</td>\n",
       "      <td>66.171527</td>\n",
       "      <td>72.417864</td>\n",
       "      <td>72.417864</td>\n",
       "      <td>0</td>\n",
       "    </tr>\n",
       "  </tbody>\n",
       "</table>\n",
       "<p>5 rows × 32 columns</p>\n",
       "</div>"
      ],
      "text/plain": [
       "      Month  Hour    DIR       SPD       TEMP  Value_1     TEMP_1     SPD_1  \\\n",
       "4808      6    16  350.0  20.92142   7.222222     22.0   7.777778   6.43736   \n",
       "4431      5     9  310.0  40.23350  18.888889     40.0  22.777778  28.96812   \n",
       "3350     12     0   70.0   6.43736 -30.000000    154.0 -32.222222   3.21868   \n",
       "5469      8     8  360.0  11.26538  27.222222      8.0  26.111111  25.74944   \n",
       "3507      1    18  350.0  17.70274 -15.000000    166.0 -15.000000   6.43736   \n",
       "\n",
       "      DIR_1  Value_2      ...          TEMP_5     SPD_5  DIR_5        HUM  \\\n",
       "4808  260.0    128.0      ...       15.000000  35.40548  990.0  60.131692   \n",
       "4431  990.0     30.0      ...       21.111111  14.48406  990.0  25.873111   \n",
       "3350  990.0    122.0      ...      -27.777778   3.21868  990.0  76.672049   \n",
       "5469  990.0      5.0      ...       21.111111   6.43736  250.0  29.266212   \n",
       "3507  990.0     95.0      ...      -13.888889   3.21868  990.0  65.632583   \n",
       "\n",
       "          HUM_1      HUM_2      HUM_3      HUM_4      HUM_5  day_week_cat  \n",
       "4808  57.894632  62.991173  54.289142  58.876705  43.806617             1  \n",
       "4431  14.017293  10.577524   8.121697  10.366566  10.508683             1  \n",
       "3350  68.259067  68.807200  72.886260  69.076428  65.736441             1  \n",
       "5469  30.082759  33.689548  33.376028  51.356790  52.831566             3  \n",
       "3507  72.187947  72.187947  66.171527  72.417864  72.417864             0  \n",
       "\n",
       "[5 rows x 32 columns]"
      ]
     },
     "execution_count": 10,
     "metadata": {},
     "output_type": "execute_result"
    }
   ],
   "source": [
    "X_train.head()"
   ]
  },
  {
   "cell_type": "code",
   "execution_count": 11,
   "metadata": {},
   "outputs": [],
   "source": [
    "import datetime\n",
    "import requests\n",
    "import time"
   ]
  },
  {
   "cell_type": "code",
   "execution_count": 12,
   "metadata": {
    "scrolled": true
   },
   "outputs": [
    {
     "data": {
      "text/html": [
       "<div>\n",
       "<style scoped>\n",
       "    .dataframe tbody tr th:only-of-type {\n",
       "        vertical-align: middle;\n",
       "    }\n",
       "\n",
       "    .dataframe tbody tr th {\n",
       "        vertical-align: top;\n",
       "    }\n",
       "\n",
       "    .dataframe thead th {\n",
       "        text-align: right;\n",
       "    }\n",
       "</style>\n",
       "<table border=\"1\" class=\"dataframe\">\n",
       "  <thead>\n",
       "    <tr style=\"text-align: right;\">\n",
       "      <th></th>\n",
       "      <th>Month</th>\n",
       "      <th>Hour</th>\n",
       "      <th>DIR</th>\n",
       "      <th>SPD</th>\n",
       "      <th>TEMP</th>\n",
       "      <th>Value_1</th>\n",
       "      <th>TEMP_1</th>\n",
       "      <th>SPD_1</th>\n",
       "      <th>DIR_1</th>\n",
       "      <th>Value_2</th>\n",
       "      <th>...</th>\n",
       "      <th>TEMP_5</th>\n",
       "      <th>SPD_5</th>\n",
       "      <th>DIR_5</th>\n",
       "      <th>HUM</th>\n",
       "      <th>HUM_1</th>\n",
       "      <th>HUM_2</th>\n",
       "      <th>HUM_3</th>\n",
       "      <th>HUM_4</th>\n",
       "      <th>HUM_5</th>\n",
       "      <th>day_week_cat</th>\n",
       "    </tr>\n",
       "  </thead>\n",
       "  <tbody>\n",
       "    <tr>\n",
       "      <th>4808</th>\n",
       "      <td>6</td>\n",
       "      <td>16</td>\n",
       "      <td>350.0</td>\n",
       "      <td>20.92142</td>\n",
       "      <td>7.222222</td>\n",
       "      <td>22.0</td>\n",
       "      <td>7.777778</td>\n",
       "      <td>6.43736</td>\n",
       "      <td>260.0</td>\n",
       "      <td>128.0</td>\n",
       "      <td>...</td>\n",
       "      <td>15.000000</td>\n",
       "      <td>35.40548</td>\n",
       "      <td>990.0</td>\n",
       "      <td>60.131692</td>\n",
       "      <td>57.894632</td>\n",
       "      <td>62.991173</td>\n",
       "      <td>54.289142</td>\n",
       "      <td>58.876705</td>\n",
       "      <td>43.806617</td>\n",
       "      <td>1</td>\n",
       "    </tr>\n",
       "    <tr>\n",
       "      <th>4431</th>\n",
       "      <td>5</td>\n",
       "      <td>9</td>\n",
       "      <td>310.0</td>\n",
       "      <td>40.23350</td>\n",
       "      <td>18.888889</td>\n",
       "      <td>40.0</td>\n",
       "      <td>22.777778</td>\n",
       "      <td>28.96812</td>\n",
       "      <td>990.0</td>\n",
       "      <td>30.0</td>\n",
       "      <td>...</td>\n",
       "      <td>21.111111</td>\n",
       "      <td>14.48406</td>\n",
       "      <td>990.0</td>\n",
       "      <td>25.873111</td>\n",
       "      <td>14.017293</td>\n",
       "      <td>10.577524</td>\n",
       "      <td>8.121697</td>\n",
       "      <td>10.366566</td>\n",
       "      <td>10.508683</td>\n",
       "      <td>1</td>\n",
       "    </tr>\n",
       "    <tr>\n",
       "      <th>3350</th>\n",
       "      <td>12</td>\n",
       "      <td>0</td>\n",
       "      <td>70.0</td>\n",
       "      <td>6.43736</td>\n",
       "      <td>-30.000000</td>\n",
       "      <td>154.0</td>\n",
       "      <td>-32.222222</td>\n",
       "      <td>3.21868</td>\n",
       "      <td>990.0</td>\n",
       "      <td>122.0</td>\n",
       "      <td>...</td>\n",
       "      <td>-27.777778</td>\n",
       "      <td>3.21868</td>\n",
       "      <td>990.0</td>\n",
       "      <td>76.672049</td>\n",
       "      <td>68.259067</td>\n",
       "      <td>68.807200</td>\n",
       "      <td>72.886260</td>\n",
       "      <td>69.076428</td>\n",
       "      <td>65.736441</td>\n",
       "      <td>1</td>\n",
       "    </tr>\n",
       "  </tbody>\n",
       "</table>\n",
       "<p>3 rows × 32 columns</p>\n",
       "</div>"
      ],
      "text/plain": [
       "      Month  Hour    DIR       SPD       TEMP  Value_1     TEMP_1     SPD_1  \\\n",
       "4808      6    16  350.0  20.92142   7.222222     22.0   7.777778   6.43736   \n",
       "4431      5     9  310.0  40.23350  18.888889     40.0  22.777778  28.96812   \n",
       "3350     12     0   70.0   6.43736 -30.000000    154.0 -32.222222   3.21868   \n",
       "\n",
       "      DIR_1  Value_2      ...          TEMP_5     SPD_5  DIR_5        HUM  \\\n",
       "4808  260.0    128.0      ...       15.000000  35.40548  990.0  60.131692   \n",
       "4431  990.0     30.0      ...       21.111111  14.48406  990.0  25.873111   \n",
       "3350  990.0    122.0      ...      -27.777778   3.21868  990.0  76.672049   \n",
       "\n",
       "          HUM_1      HUM_2      HUM_3      HUM_4      HUM_5  day_week_cat  \n",
       "4808  57.894632  62.991173  54.289142  58.876705  43.806617             1  \n",
       "4431  14.017293  10.577524   8.121697  10.366566  10.508683             1  \n",
       "3350  68.259067  68.807200  72.886260  69.076428  65.736441             1  \n",
       "\n",
       "[3 rows x 32 columns]"
      ]
     },
     "execution_count": 12,
     "metadata": {},
     "output_type": "execute_result"
    }
   ],
   "source": [
    "X_train.head(3)"
   ]
  },
  {
   "cell_type": "code",
   "execution_count": 14,
   "metadata": {},
   "outputs": [],
   "source": [
    "response = requests.get(\"https://api.openweathermap.org/data/2.5/weather?q=Ulaanbaatar,MN&appid=0dfd5dd923d46c1cfb6464650f9d7dfc\")\n",
    "a = response.content"
   ]
  },
  {
   "cell_type": "code",
   "execution_count": null,
   "metadata": {},
   "outputs": [],
   "source": []
  },
  {
   "cell_type": "code",
   "execution_count": null,
   "metadata": {},
   "outputs": [],
   "source": []
  },
  {
   "cell_type": "code",
   "execution_count": 13,
   "metadata": {},
   "outputs": [],
   "source": [
    "page = urllib2.urlopen(\"https://weather-details.000webhostapp.com/det.php\")\n",
    "soup = BeautifulSoup(page, 'html.parser')\n",
    "day_week_cat = 2\n",
    "HUM_5 = float(soup.find('h1', attrs={'class': 'humidity'}).text.strip()[10:(soup.find('h1', attrs={'class': 'humidity'}).text.strip()).find(\"%\")])\n",
    "SPD_5 = float(soup.find('h1', attrs={'class': 'wind_speed'}).text.strip()[13:(soup.find('h1', attrs={'class': 'wind_speed'}).text.strip()).find(\"km/hr\")])\n",
    "DIR_5 = float(soup.find('h1', attrs={'class': 'wind_direction'}).text.strip()[16:(soup.find('h1', attrs={'class': 'wind_direction'}).text.strip()).find(\"`\")])\n",
    "TEMP_5 = float(soup.find('h1', attrs={'class': 'temperature'}).text.strip()[13:(soup.find('h1', attrs={'class': 'temperature'}).text.strip()).find(\"`C\")])\n",
    "\n",
    "response = requests.get(\"https://api.openaq.org/v1/measurements\")\n",
    "j = json.loads(response.content)\n",
    "Value_5 = j['results'][10]['value']\n",
    "\n"
   ]
  },
  {
   "cell_type": "code",
   "execution_count": 16,
   "metadata": {},
   "outputs": [],
   "source": [
    "#time.sleep(3600)"
   ]
  },
  {
   "cell_type": "code",
   "execution_count": 14,
   "metadata": {},
   "outputs": [],
   "source": [
    "page = urllib2.urlopen(\"https://weather-details.000webhostapp.com/det.php\")\n",
    "soup = BeautifulSoup(page, 'html.parser')\n",
    "day_week_cat = 2\n",
    "HUM_4 = float(soup.find('h1', attrs={'class': 'humidity'}).text.strip()[10:(soup.find('h1', attrs={'class': 'humidity'}).text.strip()).find(\"%\")])\n",
    "SPD_4 = float(soup.find('h1', attrs={'class': 'wind_speed'}).text.strip()[13:(soup.find('h1', attrs={'class': 'wind_speed'}).text.strip()).find(\"km/hr\")])\n",
    "DIR_4 = float(soup.find('h1', attrs={'class': 'wind_direction'}).text.strip()[16:(soup.find('h1', attrs={'class': 'wind_direction'}).text.strip()).find(\"`\")])\n",
    "TEMP_4 = float(soup.find('h1', attrs={'class': 'temperature'}).text.strip()[13:(soup.find('h1', attrs={'class': 'temperature'}).text.strip()).find(\"`C\")])\n",
    "\n",
    "response = requests.get(\"https://api.openaq.org/v1/measurements\")\n",
    "j = json.loads(response.content)\n",
    "Value_4 = j['results'][10]['value']\n",
    "\n"
   ]
  },
  {
   "cell_type": "code",
   "execution_count": 18,
   "metadata": {},
   "outputs": [],
   "source": [
    "#time.sleep(3600)"
   ]
  },
  {
   "cell_type": "code",
   "execution_count": 15,
   "metadata": {},
   "outputs": [],
   "source": [
    "page = urllib2.urlopen(\"https://weather-details.000webhostapp.com/det.php\")\n",
    "soup = BeautifulSoup(page, 'html.parser')\n",
    "day_week_cat = 2\n",
    "HUM_3 = float(soup.find('h1', attrs={'class': 'humidity'}).text.strip()[10:(soup.find('h1', attrs={'class': 'humidity'}).text.strip()).find(\"%\")])\n",
    "SPD_3 = float(soup.find('h1', attrs={'class': 'wind_speed'}).text.strip()[13:(soup.find('h1', attrs={'class': 'wind_speed'}).text.strip()).find(\"km/hr\")])\n",
    "DIR_3 = float(soup.find('h1', attrs={'class': 'wind_direction'}).text.strip()[16:(soup.find('h1', attrs={'class': 'wind_direction'}).text.strip()).find(\"`\")])\n",
    "TEMP_3 = float(soup.find('h1', attrs={'class': 'temperature'}).text.strip()[13:(soup.find('h1', attrs={'class': 'temperature'}).text.strip()).find(\"`C\")])\n",
    "\n",
    "response = requests.get(\"https://api.openaq.org/v1/measurements\")\n",
    "j = json.loads(response.content)\n",
    "Value_3 = j['results'][10]['value']\n",
    "\n"
   ]
  },
  {
   "cell_type": "code",
   "execution_count": 20,
   "metadata": {},
   "outputs": [],
   "source": [
    "#time.sleep(3600)"
   ]
  },
  {
   "cell_type": "code",
   "execution_count": 16,
   "metadata": {},
   "outputs": [],
   "source": [
    "page = urllib2.urlopen(\"https://weather-details.000webhostapp.com/det.php\")\n",
    "soup = BeautifulSoup(page, 'html.parser')\n",
    "day_week_cat = 2\n",
    "HUM_2 = float(soup.find('h1', attrs={'class': 'humidity'}).text.strip()[10:(soup.find('h1', attrs={'class': 'humidity'}).text.strip()).find(\"%\")])\n",
    "SPD_2 = float(soup.find('h1', attrs={'class': 'wind_speed'}).text.strip()[13:(soup.find('h1', attrs={'class': 'wind_speed'}).text.strip()).find(\"km/hr\")])\n",
    "DIR_2 = float(soup.find('h1', attrs={'class': 'wind_direction'}).text.strip()[16:(soup.find('h1', attrs={'class': 'wind_direction'}).text.strip()).find(\"`\")])\n",
    "TEMP_2 = float(soup.find('h1', attrs={'class': 'temperature'}).text.strip()[13:(soup.find('h1', attrs={'class': 'temperature'}).text.strip()).find(\"`C\")])\n",
    "\n",
    "response = requests.get(\"https://api.openaq.org/v1/measurements\")\n",
    "j = json.loads(response.content)\n",
    "Value_2 = j['results'][10]['value']\n",
    "\n"
   ]
  },
  {
   "cell_type": "code",
   "execution_count": 22,
   "metadata": {},
   "outputs": [],
   "source": [
    "#time.sleep(3600)"
   ]
  },
  {
   "cell_type": "code",
   "execution_count": 20,
   "metadata": {},
   "outputs": [],
   "source": [
    "page = urllib2.urlopen(\"https://weather-details.000webhostapp.com/det.php\")\n",
    "soup = BeautifulSoup(page, 'html.parser')\n",
    "day_week_cat = 2\n",
    "HUM_1 = float(soup.find('h1', attrs={'class': 'humidity'}).text.strip()[10:(soup.find('h1', attrs={'class': 'humidity'}).text.strip()).find(\"%\")])\n",
    "SPD_1 = float(soup.find('h1', attrs={'class': 'wind_speed'}).text.strip()[13:(soup.find('h1', attrs={'class': 'wind_speed'}).text.strip()).find(\"km/hr\")])\n",
    "DIR_1 = float(soup.find('h1', attrs={'class': 'wind_direction'}).text.strip()[16:(soup.find('h1', attrs={'class': 'wind_direction'}).text.strip()).find(\"`\")])\n",
    "TEMP_1 = float(soup.find('h1', attrs={'class': 'temperature'}).text.strip()[13:(soup.find('h1', attrs={'class': 'temperature'}).text.strip()).find(\"`C\")])\n",
    "\n",
    "response = requests.get(\"https://api.openaq.org/v1/measurements\")\n",
    "j = json.loads(response.content)\n",
    "Value_1 = j['results'][10]['value']\n",
    "\n"
   ]
  },
  {
   "cell_type": "code",
   "execution_count": 24,
   "metadata": {},
   "outputs": [],
   "source": [
    "#time.sleep(3600)"
   ]
  },
  {
   "cell_type": "code",
   "execution_count": 21,
   "metadata": {},
   "outputs": [],
   "source": [
    "page = urllib2.urlopen(\"https://weather-details.000webhostapp.com/det.php\")\n",
    "soup = BeautifulSoup(page, 'html.parser')\n",
    "day_week_cat = 2\n",
    "HUM = float(soup.find('h1', attrs={'class': 'humidity'}).text.strip()[10:(soup.find('h1', attrs={'class': 'humidity'}).text.strip()).find(\"%\")])\n",
    "SPD = float(soup.find('h1', attrs={'class': 'wind_speed'}).text.strip()[13:(soup.find('h1', attrs={'class': 'wind_speed'}).text.strip()).find(\"km/hr\")])\n",
    "DIR = float(soup.find('h1', attrs={'class': 'wind_direction'}).text.strip()[16:(soup.find('h1', attrs={'class': 'wind_direction'}).text.strip()).find(\"`\")])\n",
    "TEMP = float(soup.find('h1', attrs={'class': 'temperature'}).text.strip()[13:(soup.find('h1', attrs={'class': 'temperature'}).text.strip()).find(\"`C\")])\n",
    "\n",
    "response = requests.get(\"https://api.openaq.org/v1/measurements\")\n",
    "j = json.loads(response.content)\n",
    "Value = j['results'][10]['value']\n",
    "\n",
    "\n",
    "Hour = int((soup.find('h1', attrs={'class': 'time'}).text.strip()[7:9]))\n",
    "Month = 2"
   ]
  },
  {
   "cell_type": "code",
   "execution_count": 11,
   "metadata": {},
   "outputs": [
    {
     "data": {
      "text/plain": [
       "157"
      ]
     },
     "execution_count": 11,
     "metadata": {},
     "output_type": "execute_result"
    }
   ],
   "source": [
    "Value"
   ]
  },
  {
   "cell_type": "code",
   "execution_count": 53,
   "metadata": {},
   "outputs": [
    {
     "data": {
      "text/html": [
       "<div>\n",
       "<style scoped>\n",
       "    .dataframe tbody tr th:only-of-type {\n",
       "        vertical-align: middle;\n",
       "    }\n",
       "\n",
       "    .dataframe tbody tr th {\n",
       "        vertical-align: top;\n",
       "    }\n",
       "\n",
       "    .dataframe thead th {\n",
       "        text-align: right;\n",
       "    }\n",
       "</style>\n",
       "<table border=\"1\" class=\"dataframe\">\n",
       "  <thead>\n",
       "    <tr style=\"text-align: right;\">\n",
       "      <th></th>\n",
       "      <th>Month</th>\n",
       "      <th>Hour</th>\n",
       "      <th>DIR</th>\n",
       "      <th>SPD</th>\n",
       "      <th>TEMP</th>\n",
       "      <th>Value_1</th>\n",
       "      <th>TEMP_1</th>\n",
       "      <th>SPD_1</th>\n",
       "      <th>DIR_1</th>\n",
       "      <th>Value_2</th>\n",
       "      <th>...</th>\n",
       "      <th>TEMP_5</th>\n",
       "      <th>SPD_5</th>\n",
       "      <th>DIR_5</th>\n",
       "      <th>HUM</th>\n",
       "      <th>HUM_1</th>\n",
       "      <th>HUM_2</th>\n",
       "      <th>HUM_3</th>\n",
       "      <th>HUM_4</th>\n",
       "      <th>HUM_5</th>\n",
       "      <th>day_week_cat</th>\n",
       "    </tr>\n",
       "  </thead>\n",
       "  <tbody>\n",
       "    <tr>\n",
       "      <th>0</th>\n",
       "      <td>2</td>\n",
       "      <td>11</td>\n",
       "      <td>0.0</td>\n",
       "      <td>2.0</td>\n",
       "      <td>-9.0</td>\n",
       "      <td>110</td>\n",
       "      <td>-12.0</td>\n",
       "      <td>2.0</td>\n",
       "      <td>0.0</td>\n",
       "      <td>150</td>\n",
       "      <td>...</td>\n",
       "      <td>-20.0</td>\n",
       "      <td>0.0</td>\n",
       "      <td>0.0</td>\n",
       "      <td>52.0</td>\n",
       "      <td>66.0</td>\n",
       "      <td>77.0</td>\n",
       "      <td>77.0</td>\n",
       "      <td>84.0</td>\n",
       "      <td>84.0</td>\n",
       "      <td>2</td>\n",
       "    </tr>\n",
       "  </tbody>\n",
       "</table>\n",
       "<p>1 rows × 32 columns</p>\n",
       "</div>"
      ],
      "text/plain": [
       "   Month  Hour  DIR  SPD  TEMP  Value_1  TEMP_1  SPD_1  DIR_1  Value_2  \\\n",
       "0      2    11  0.0  2.0  -9.0      110   -12.0    2.0    0.0      150   \n",
       "\n",
       "       ...       TEMP_5  SPD_5  DIR_5   HUM  HUM_1  HUM_2  HUM_3  HUM_4  \\\n",
       "0      ...        -20.0    0.0    0.0  52.0   66.0   77.0   77.0   84.0   \n",
       "\n",
       "   HUM_5  day_week_cat  \n",
       "0   84.0             2  \n",
       "\n",
       "[1 rows x 32 columns]"
      ]
     },
     "execution_count": 53,
     "metadata": {},
     "output_type": "execute_result"
    }
   ],
   "source": [
    "new_one = pd.DataFrame([[Month,Hour,DIR,SPD,TEMP,Value_1,TEMP_1,SPD_1,DIR_1,Value_2,TEMP_2,SPD_2,DIR_2,Value_3,TEMP_3,SPD_3,DIR_3,Value_4,TEMP_4,SPD_4,DIR_4,Value_5,TEMP_5,SPD_5,DIR_5,HUM,HUM_1,HUM_2,HUM_3,HUM_4,HUM_5,day_week_cat]], columns = ['Month','Hour','DIR','SPD','TEMP','Value_1','TEMP_1','SPD_1','DIR_1','Value_2','TEMP_2','SPD_2','DIR_2','Value_3','TEMP_3','SPD_3','DIR_3','Value_4','TEMP_4','SPD_4','DIR_4','Value_5','TEMP_5','SPD_5','DIR_5','HUM','HUM_1','HUM_2','HUM_3','HUM_4','HUM_5','day_week_cat']) \n",
    "new_one"
   ]
  },
  {
   "cell_type": "code",
   "execution_count": 54,
   "metadata": {},
   "outputs": [
    {
     "data": {
      "text/plain": [
       "array([141.77774], dtype=float32)"
      ]
     },
     "execution_count": 54,
     "metadata": {},
     "output_type": "execute_result"
    }
   ],
   "source": [
    "xboost.predict(new_one)"
   ]
  },
  {
   "cell_type": "code",
   "execution_count": 31,
   "metadata": {},
   "outputs": [
    {
     "data": {
      "text/plain": [
       "Month             int64\n",
       "Hour              int64\n",
       "DIR             float64\n",
       "SPD             float64\n",
       "TEMP            float64\n",
       "Value_1         float64\n",
       "TEMP_1          float64\n",
       "SPD_1           float64\n",
       "DIR_1           float64\n",
       "Value_2         float64\n",
       "TEMP_2          float64\n",
       "SPD_2           float64\n",
       "DIR_2           float64\n",
       "Value_3         float64\n",
       "TEMP_3          float64\n",
       "SPD_3           float64\n",
       "DIR_3           float64\n",
       "Value_4         float64\n",
       "TEMP_4          float64\n",
       "SPD_4           float64\n",
       "DIR_4           float64\n",
       "Value_5         float64\n",
       "TEMP_5          float64\n",
       "SPD_5           float64\n",
       "DIR_5           float64\n",
       "HUM             float64\n",
       "HUM_1           float64\n",
       "HUM_2           float64\n",
       "HUM_3           float64\n",
       "HUM_4           float64\n",
       "HUM_5           float64\n",
       "day_week_cat      int64\n",
       "dtype: object"
      ]
     },
     "execution_count": 31,
     "metadata": {},
     "output_type": "execute_result"
    }
   ],
   "source": [
    "X_test.dtypes"
   ]
  },
  {
   "cell_type": "code",
   "execution_count": 34,
   "metadata": {},
   "outputs": [
    {
     "data": {
      "text/plain": [
       "Month             int64\n",
       "Hour              int64\n",
       "DIR             float64\n",
       "SPD             float64\n",
       "TEMP            float64\n",
       "Value_1           int64\n",
       "TEMP_1          float64\n",
       "SPD_1           float64\n",
       "DIR_1           float64\n",
       "Value_2           int64\n",
       "TEMP_2          float64\n",
       "SPD_2           float64\n",
       "DIR_2           float64\n",
       "Value_3           int64\n",
       "TEMP_3          float64\n",
       "SPD_3           float64\n",
       "DIR_3           float64\n",
       "Value_4           int64\n",
       "TEMP_4          float64\n",
       "SPD_4           float64\n",
       "DIR_4           float64\n",
       "Value_5           int64\n",
       "TEMP_5          float64\n",
       "SPD_5           float64\n",
       "DIR_5           float64\n",
       "HUM             float64\n",
       "HUM_1           float64\n",
       "HUM_2           float64\n",
       "HUM_3           float64\n",
       "HUM_4           float64\n",
       "HUM_5           float64\n",
       "day_week_cat      int64\n",
       "dtype: object"
      ]
     },
     "execution_count": 34,
     "metadata": {},
     "output_type": "execute_result"
    }
   ],
   "source": [
    "new_one.dtypes"
   ]
  },
  {
   "cell_type": "code",
   "execution_count": null,
   "metadata": {},
   "outputs": [],
   "source": []
  }
 ],
 "metadata": {
  "kernelspec": {
   "display_name": "Python 3",
   "language": "python",
   "name": "python3"
  },
  "language_info": {
   "codemirror_mode": {
    "name": "ipython",
    "version": 3
   },
   "file_extension": ".py",
   "mimetype": "text/x-python",
   "name": "python",
   "nbconvert_exporter": "python",
   "pygments_lexer": "ipython3",
   "version": "3.8.1"
  }
 },
 "nbformat": 4,
 "nbformat_minor": 2
}
